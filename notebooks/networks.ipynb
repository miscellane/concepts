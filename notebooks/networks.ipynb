{
 "cells": [
  {
   "cell_type": "markdown",
   "metadata": {},
   "source": [
    "## Preliminaries"
   ]
  },
  {
   "cell_type": "markdown",
   "metadata": {},
   "source": [
    "### Libraries"
   ]
  },
  {
   "cell_type": "code",
   "execution_count": 2,
   "metadata": {},
   "outputs": [],
   "source": [
    "import os\n",
    "import pathlib\n",
    "import sys\n",
    "\n",
    "import pandas as pd\n",
    "import numpy as np\n",
    "\n",
    "import networkx as nx\n",
    "import matplotlib.pyplot as plt"
   ]
  },
  {
   "cell_type": "markdown",
   "metadata": {},
   "source": [
    "<br>\n",
    "<br>\n",
    "\n",
    "## Equivalent Geographic Points"
   ]
  },
  {
   "cell_type": "markdown",
   "metadata": {},
   "source": [
    "A key set of issues, in relation to site identification codes of the ESPEN data sets, are\n",
    "\n",
    "* Survey sites that have the same co&ouml;rdinate values have different site identification codes.\n",
    "\n",
    "* Survey sites whose longitude or latitude values differ by fractions of a point, e.g., <br>\n",
    "\n",
    "longitude | latitude\n",
    ":--- | :---\n",
    "33.87212 | -2.031722\n",
    "33.872115 | -2.0317217\n",
    "\n",
    "&nbsp; &nbsp; &nbsp; &nbsp; can have different site identification codes.\n",
    "\n",
    "* Many observations do not have a site identification code.\n",
    "\n",
    "The aim herein is to determine which co&ouml;rdinate points are more or less equivalent, and subsequently generate identification codes.  [At present](https://github.com/helminthiases/infections/blob/develop/config.py#L28), if $\\lfloor \\text{linear distance} \\rfloor = 0$ between an observation point and its nearest point, then the points are equivalent.  The co&ouml;rdinates undergo [EPSG:3587](https://epsg.io/3857) transformation prior to distance calculations, hence the distance unit of meausre is metres.  \n"
   ]
  },
  {
   "cell_type": "markdown",
   "metadata": {},
   "source": [
    "<br>\n",
    "\n",
    "Each observation within the data sets of [helminthiases/infections/tree/develop/warehouse/data/ESPEN/networks/edges](https://github.com/helminthiases/infections/tree/develop/warehouse/data/ESPEN/networks/edges) includes the variables `src` & `dst`.  `src` is a *temporary observation identifier*, whilst `dst` is the *temporary observation identifier* of the nearest observation"
   ]
  },
  {
   "cell_type": "markdown",
   "metadata": {},
   "source": [
    "$$\n",
    "\\textit{dst identifier} =\n",
    "\\begin{cases}\n",
    "\\textit{nearest observation identifier}, & \\text{if } \\lfloor\\text{linear distance}\\rfloor = 0 \\\\\n",
    "\\textit{src identifier}, & \\text{if } \\lfloor\\text{linear distance}\\rfloor > 0\n",
    "\\end{cases}\n",
    "$$"
   ]
  },
  {
   "cell_type": "markdown",
   "metadata": {},
   "source": [
    "Wherein **linear distance** is the distance between an observation and its nearest observation. "
   ]
  },
  {
   "cell_type": "markdown",
   "metadata": {},
   "source": [
    "<br>\n",
    "\n",
    "### Sample Data"
   ]
  },
  {
   "cell_type": "code",
   "execution_count": 4,
   "metadata": {},
   "outputs": [
    {
     "data": {
      "text/plain": [
       "Index(['iso3', 'iso2', 'admin1_id', 'admin2_id', 'iu_id', 'site_id',\n",
       "       'longitude', 'latitude', 'georeliability', 'location_type',\n",
       "       'survey_type', 'year', 'age_start', 'age_end', 'hk_examined',\n",
       "       'hk_positive', 'asc_examined', 'asc_positive', 'tt_examined',\n",
       "       'tt_positive', 'quality', 'sn', 'hk_prevalence', 'asc_prevalence',\n",
       "       'tt_prevalence', 'sth_prevalence', 'shortest', 'id', 'src', 'dst',\n",
       "       'identifier'],\n",
       "      dtype='object')"
      ]
     },
     "execution_count": 4,
     "metadata": {},
     "output_type": "execute_result"
    }
   ],
   "source": [
    "url = 'https://raw.githubusercontent.com/helminthiases/infections/develop/warehouse/data/ESPEN/experiments/reduced/TZ.csv'\n",
    "frame = pd.read_csv(filepath_or_buffer=url, header=0, encoding='utf-8')\n",
    "frame.columns"
   ]
  },
  {
   "cell_type": "markdown",
   "metadata": {},
   "source": [
    "<br>\n",
    "\n",
    "Focusing on the pertinent fields, and noting that $src \\equiv id$"
   ]
  },
  {
   "cell_type": "code",
   "execution_count": 15,
   "metadata": {},
   "outputs": [],
   "source": [
    "excerpt = frame[['longitude', 'latitude', 'georeliability', 'shortest', 'id', 'src', 'dst']]\n",
    "excerpt = excerpt.iloc[:25, :]"
   ]
  },
  {
   "cell_type": "markdown",
   "metadata": {},
   "source": [
    "<br>\n",
    "\n",
    "### Networks"
   ]
  },
  {
   "cell_type": "code",
   "execution_count": 16,
   "metadata": {},
   "outputs": [],
   "source": [
    "connections = nx.from_pandas_edgelist(excerpt, source='src', target='dst')"
   ]
  },
  {
   "cell_type": "markdown",
   "metadata": {},
   "source": [
    "<br>\n",
    "\n",
    "Note:\n",
    "\n",
    "* Nodes: `connections.nodes`\n",
    "* Edges: `connections.edges`"
   ]
  },
  {
   "cell_type": "code",
   "execution_count": 17,
   "metadata": {},
   "outputs": [
    {
     "data": {
      "text/plain": [
       "[(0, 0),\n",
       " (1, 1),\n",
       " (3, 3),\n",
       " (5, 6),\n",
       " (5, 12),\n",
       " (10, 10),\n",
       " (13, 13),\n",
       " (14, 15),\n",
       " (16, 16),\n",
       " (17, 678),\n",
       " (18, 1013),\n",
       " (19, 19),\n",
       " (20, 20),\n",
       " (22, 22),\n",
       " (26, 26),\n",
       " (29, 890),\n",
       " (32, 32),\n",
       " (33, 33),\n",
       " (34, 34),\n",
       " (35, 35),\n",
       " (36, 36),\n",
       " (37, 37),\n",
       " (38, 38)]"
      ]
     },
     "execution_count": 17,
     "metadata": {},
     "output_type": "execute_result"
    }
   ],
   "source": [
    "list(connections.edges)"
   ]
  },
  {
   "cell_type": "code",
   "execution_count": 19,
   "metadata": {},
   "outputs": [
    {
     "name": "stdout",
     "output_type": "stream",
     "text": [
      "The connected components: [{0}, {1}, {3}, {12, 5, 6}, {10}, {13}, {14, 15}, {16}, {17, 678}, {18, 1013}, {19}, {20}, {22}, {26}, {890, 29}, {32}, {33}, {34}, {35}, {36}, {37}, {38}]\n"
     ]
    },
    {
     "data": {
      "image/png": "[encoded data removed]",
      "text/plain": [
       "<Figure size 432x288 with 1 Axes>"
      ]
     },
     "metadata": {},
     "output_type": "display_data"
    }
   ],
   "source": [
    "print(f'The connected components: {list(nx.connected_components(connections))}')\n",
    "\n",
    "nx.draw(connections, with_labels=True, font_weight='bold')"
   ]
  }
 ],
 "metadata": {
  "kernelspec": {
   "display_name": "Python 3 (ipykernel)",
   "language": "python",
   "name": "python3"
  },
  "language_info": {
   "codemirror_mode": {
    "name": "ipython",
    "version": 3
   },
   "file_extension": ".py",
   "mimetype": "text/x-python",
   "name": "python",
   "nbconvert_exporter": "python",
   "pygments_lexer": "ipython3",
   "version": "3.8.13"
  },
  "vscode": {
   "interpreter": {
    "hash": "4f946df053fbf2b937619d3c5458e7af74262f9a954d8797ba0b27400bcafe06"
   }
  }
 },
 "nbformat": 4,
 "nbformat_minor": 4
}
